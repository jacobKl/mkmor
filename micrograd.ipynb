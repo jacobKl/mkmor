{
 "cells": [
  {
   "cell_type": "code",
   "execution_count": 119,
   "metadata": {},
   "outputs": [
    {
     "name": "stdout",
     "output_type": "stream",
     "text": [
      "{Value(data=10.0), Value(data=-6.0)}\n",
      "+\n"
     ]
    }
   ],
   "source": [
    "import math\n",
    "\n",
    "class Value:\n",
    "  \n",
    "  def __init__(self, data, _children=(), _op='', label=''):\n",
    "    self.data = data\n",
    "    self.grad = 0.0\n",
    "    self._backward = lambda: None\n",
    "    self._prev = set(_children)\n",
    "    self._op = _op\n",
    "    self.label = label\n",
    "\n",
    "  def __repr__(self):\n",
    "    return f\"Value(data={self.data})\"\n",
    "  \n",
    "  def __add__(self, other):\n",
    "    other = other if isinstance(other, Value) else Value(other)\n",
    "    out = Value(self.data + other.data, (self, other), '+')\n",
    "    \n",
    "    def _backward():\n",
    "      self.grad += 1.0 * out.grad\n",
    "      other.grad += 1.0 * out.grad\n",
    "    out._backward = _backward\n",
    "    \n",
    "    return out\n",
    "\n",
    "  def __mul__(self, other):\n",
    "    other = other if isinstance(other, Value) else Value(other)\n",
    "    out = Value(self.data * other.data, (self, other), '*')\n",
    "    \n",
    "    def _backward():\n",
    "      self.grad += other.data * out.grad\n",
    "      other.grad += self.data * out.grad\n",
    "    out._backward = _backward\n",
    "      \n",
    "    return out\n",
    "  \n",
    "  def __pow__(self, other):\n",
    "    assert isinstance(other, (int, float)), \"only supporting int/float powers for now\"\n",
    "    out = Value(self.data**other, (self,), f'**{other}')\n",
    "\n",
    "    def _backward():\n",
    "        self.grad += other * (self.data ** (other - 1)) * out.grad\n",
    "    out._backward = _backward\n",
    "\n",
    "    return out\n",
    "  \n",
    "  def __rmul__(self, other): # other * self\n",
    "    return self * other\n",
    "\n",
    "  def __truediv__(self, other): # self / other\n",
    "    return self * other**-1\n",
    "\n",
    "  def __neg__(self): # -self\n",
    "    return self * -1\n",
    "\n",
    "  def __sub__(self, other): # self - other\n",
    "    return self + (-other)\n",
    "\n",
    "  def __radd__(self, other): # other + self\n",
    "    return self + other\n",
    "\n",
    "  def tanh(self):\n",
    "    x = self.data\n",
    "    t = (math.exp(2*x) - 1)/(math.exp(2*x) + 1)\n",
    "    out = Value(t, (self, ), 'tanh')\n",
    "    \n",
    "    def _backward():\n",
    "      self.grad += (1 - t**2) * out.grad\n",
    "    out._backward = _backward\n",
    "    \n",
    "    return out\n",
    "  \n",
    "  def exp(self):\n",
    "    x = self.data\n",
    "    out = Value(math.exp(x), (self, ), 'exp')\n",
    "    \n",
    "    def _backward():\n",
    "      self.grad += out.data * out.grad # NOTE: in the video I incorrectly used = instead of +=. Fixed here.\n",
    "    out._backward = _backward\n",
    "    \n",
    "    return out\n",
    "  \n",
    "  \n",
    "  def backward(self):\n",
    "    \n",
    "    topo = []\n",
    "    visited = set()\n",
    "    def build_topo(v):\n",
    "      if v not in visited:\n",
    "        visited.add(v)\n",
    "        for child in v._prev:\n",
    "          build_topo(child)\n",
    "        topo.append(v)\n",
    "    build_topo(self)\n",
    "    \n",
    "    self.grad = 1.0\n",
    "    for node in reversed(topo):\n",
    "      node._backward()\n",
    "    \n",
    "    \n",
    "a = Value(2.0)\n",
    "a.label = 'A'\n",
    "b = Value(-3.0)\n",
    "b.label = 'B'\n",
    "c = Value(10.0)\n",
    "c.label = 'C'\n",
    "\n",
    "e = a * b; e.label = 'E'\n",
    "\n",
    "d = e + c\n",
    "d.label = 'D'\n",
    "\n",
    "print(d._prev)\n",
    "print(d._op)"
   ]
  },
  {
   "cell_type": "code",
   "execution_count": 108,
   "metadata": {},
   "outputs": [],
   "source": [
    "from graphviz import Digraph\n",
    "\n",
    "def trace(root):\n",
    "  # builds a set of all nodes and edges in a graph\n",
    "  nodes, edges = set(), set()\n",
    "  def build(v):\n",
    "    if v not in nodes:\n",
    "      nodes.add(v)\n",
    "      for child in v._prev:\n",
    "        edges.add((child, v))\n",
    "        build(child)\n",
    "  build(root)\n",
    "  return nodes, edges\n",
    "\n",
    "def draw_dot(root):\n",
    "  dot = Digraph(format='svg', graph_attr={'rankdir': 'LR'}) # LR = left to right\n",
    "  \n",
    "  nodes, edges = trace(root)\n",
    "  for n in nodes:\n",
    "    uid = str(id(n))\n",
    "    # for any value in the graph, create a rectangular ('record') node for it\n",
    "    dot.node(name = uid, label = \"{ %s | data %.4f | grad %.4f }\" % (n.label, n.data, n.grad), shape='record')\n",
    "    if n._op:\n",
    "      # if this value is a result of some operation, create an op node for it\n",
    "      dot.node(name = uid + n._op, label = n._op)\n",
    "      # and connect this node to it\n",
    "      dot.edge(uid + n._op, uid)\n",
    "\n",
    "  for n1, n2 in edges:\n",
    "    # connect n1 to the op node of n2\n",
    "    dot.edge(str(id(n1)), str(id(n2)) + n2._op)\n",
    "\n",
    "  return dot"
   ]
  },
  {
   "cell_type": "code",
   "execution_count": 109,
   "metadata": {},
   "outputs": [
    {
     "data": {
      "image/svg+xml": "<?xml version=\"1.0\" encoding=\"UTF-8\" standalone=\"no\"?>\n<!DOCTYPE svg PUBLIC \"-//W3C//DTD SVG 1.1//EN\"\n \"http://www.w3.org/Graphics/SVG/1.1/DTD/svg11.dtd\">\n<!-- Generated by graphviz version 12.1.2 (20240928.0832)\n -->\n<!-- Pages: 1 -->\n<svg width=\"830pt\" height=\"128pt\"\n viewBox=\"0.00 0.00 830.00 128.00\" xmlns=\"http://www.w3.org/2000/svg\" xmlns:xlink=\"http://www.w3.org/1999/xlink\">\n<g id=\"graph0\" class=\"graph\" transform=\"scale(1 1) rotate(0) translate(4 124)\">\n<polygon fill=\"white\" stroke=\"none\" points=\"-4,4 -4,-124 826,-124 826,4 -4,4\"/>\n<!-- 4779243040 -->\n<g id=\"node1\" class=\"node\">\n<title>4779243040</title>\n<polygon fill=\"none\" stroke=\"black\" points=\"635.25,-27.5 635.25,-63.5 822,-63.5 822,-27.5 635.25,-27.5\"/>\n<text text-anchor=\"middle\" x=\"648.12\" y=\"-40.7\" font-family=\"Times,serif\" font-size=\"14.00\">D</text>\n<polyline fill=\"none\" stroke=\"black\" points=\"661,-28 661,-63.5\"/>\n<text text-anchor=\"middle\" x=\"700.88\" y=\"-40.7\" font-family=\"Times,serif\" font-size=\"14.00\">data 4.0000</text>\n<polyline fill=\"none\" stroke=\"black\" points=\"740.75,-28 740.75,-63.5\"/>\n<text text-anchor=\"middle\" x=\"781.38\" y=\"-40.7\" font-family=\"Times,serif\" font-size=\"14.00\">grad 0.0000</text>\n</g>\n<!-- 4779243040+ -->\n<g id=\"node2\" class=\"node\">\n<title>4779243040+</title>\n<ellipse fill=\"none\" stroke=\"black\" cx=\"572.25\" cy=\"-45.5\" rx=\"27\" ry=\"18\"/>\n<text text-anchor=\"middle\" x=\"572.25\" y=\"-40.45\" font-family=\"Times,serif\" font-size=\"14.00\">+</text>\n</g>\n<!-- 4779243040+&#45;&gt;4779243040 -->\n<g id=\"edge1\" class=\"edge\">\n<title>4779243040+&#45;&gt;4779243040</title>\n<path fill=\"none\" stroke=\"black\" d=\"M599.44,-45.5C606.57,-45.5 614.77,-45.5 623.48,-45.5\"/>\n<polygon fill=\"black\" stroke=\"black\" points=\"623.25,-49 633.25,-45.5 623.25,-42 623.25,-49\"/>\n</g>\n<!-- 4779102272 -->\n<g id=\"node3\" class=\"node\">\n<title>4779102272</title>\n<polygon fill=\"none\" stroke=\"black\" points=\"318,-55.5 318,-91.5 507.75,-91.5 507.75,-55.5 318,-55.5\"/>\n<text text-anchor=\"middle\" x=\"330.12\" y=\"-68.7\" font-family=\"Times,serif\" font-size=\"14.00\">E</text>\n<polyline fill=\"none\" stroke=\"black\" points=\"342.25,-56 342.25,-91.5\"/>\n<text text-anchor=\"middle\" x=\"384.38\" y=\"-68.7\" font-family=\"Times,serif\" font-size=\"14.00\">data &#45;6.0000</text>\n<polyline fill=\"none\" stroke=\"black\" points=\"426.5,-56 426.5,-91.5\"/>\n<text text-anchor=\"middle\" x=\"467.12\" y=\"-68.7\" font-family=\"Times,serif\" font-size=\"14.00\">grad 0.0000</text>\n</g>\n<!-- 4779102272&#45;&gt;4779243040+ -->\n<g id=\"edge6\" class=\"edge\">\n<title>4779102272&#45;&gt;4779243040+</title>\n<path fill=\"none\" stroke=\"black\" d=\"M508.15,-56.73C517.38,-55.08 526.32,-53.49 534.42,-52.05\"/>\n<polygon fill=\"black\" stroke=\"black\" points=\"534.91,-55.52 544.14,-50.32 533.69,-48.63 534.91,-55.52\"/>\n</g>\n<!-- 4779102272* -->\n<g id=\"node4\" class=\"node\">\n<title>4779102272*</title>\n<ellipse fill=\"none\" stroke=\"black\" cx=\"253.5\" cy=\"-73.5\" rx=\"27\" ry=\"18\"/>\n<text text-anchor=\"middle\" x=\"253.5\" y=\"-68.45\" font-family=\"Times,serif\" font-size=\"14.00\">*</text>\n</g>\n<!-- 4779102272*&#45;&gt;4779102272 -->\n<g id=\"edge2\" class=\"edge\">\n<title>4779102272*&#45;&gt;4779102272</title>\n<path fill=\"none\" stroke=\"black\" d=\"M280.84,-73.5C288.31,-73.5 296.92,-73.5 306.1,-73.5\"/>\n<polygon fill=\"black\" stroke=\"black\" points=\"306.01,-77 316.01,-73.5 306.01,-70 306.01,-77\"/>\n</g>\n<!-- 4770735184 -->\n<g id=\"node5\" class=\"node\">\n<title>4770735184</title>\n<polygon fill=\"none\" stroke=\"black\" points=\"316.5,-0.5 316.5,-36.5 509.25,-36.5 509.25,-0.5 316.5,-0.5\"/>\n<text text-anchor=\"middle\" x=\"329\" y=\"-13.7\" font-family=\"Times,serif\" font-size=\"14.00\">C</text>\n<polyline fill=\"none\" stroke=\"black\" points=\"341.5,-1 341.5,-36.5\"/>\n<text text-anchor=\"middle\" x=\"384.75\" y=\"-13.7\" font-family=\"Times,serif\" font-size=\"14.00\">data 10.0000</text>\n<polyline fill=\"none\" stroke=\"black\" points=\"428,-1 428,-36.5\"/>\n<text text-anchor=\"middle\" x=\"468.62\" y=\"-13.7\" font-family=\"Times,serif\" font-size=\"14.00\">grad 0.0000</text>\n</g>\n<!-- 4770735184&#45;&gt;4779243040+ -->\n<g id=\"edge5\" class=\"edge\">\n<title>4770735184&#45;&gt;4779243040+</title>\n<path fill=\"none\" stroke=\"black\" d=\"M509.5,-34.91C518.31,-36.42 526.82,-37.88 534.56,-39.2\"/>\n<polygon fill=\"black\" stroke=\"black\" points=\"533.71,-42.61 544.16,-40.85 534.9,-35.71 533.71,-42.61\"/>\n</g>\n<!-- 4777095296 -->\n<g id=\"node6\" class=\"node\">\n<title>4777095296</title>\n<polygon fill=\"none\" stroke=\"black\" points=\"0,-83.5 0,-119.5 190.5,-119.5 190.5,-83.5 0,-83.5\"/>\n<text text-anchor=\"middle\" x=\"12.5\" y=\"-96.7\" font-family=\"Times,serif\" font-size=\"14.00\">B</text>\n<polyline fill=\"none\" stroke=\"black\" points=\"25,-84 25,-119.5\"/>\n<text text-anchor=\"middle\" x=\"67.12\" y=\"-96.7\" font-family=\"Times,serif\" font-size=\"14.00\">data &#45;3.0000</text>\n<polyline fill=\"none\" stroke=\"black\" points=\"109.25,-84 109.25,-119.5\"/>\n<text text-anchor=\"middle\" x=\"149.88\" y=\"-96.7\" font-family=\"Times,serif\" font-size=\"14.00\">grad 0.0000</text>\n</g>\n<!-- 4777095296&#45;&gt;4779102272* -->\n<g id=\"edge4\" class=\"edge\">\n<title>4777095296&#45;&gt;4779102272*</title>\n<path fill=\"none\" stroke=\"black\" d=\"M190.75,-84.57C199.54,-82.99 208.04,-81.47 215.78,-80.08\"/>\n<polygon fill=\"black\" stroke=\"black\" points=\"216.16,-83.57 225.39,-78.36 214.93,-76.68 216.16,-83.57\"/>\n</g>\n<!-- 4777098896 -->\n<g id=\"node7\" class=\"node\">\n<title>4777098896</title>\n<polygon fill=\"none\" stroke=\"black\" points=\"1.88,-28.5 1.88,-64.5 188.62,-64.5 188.62,-28.5 1.88,-28.5\"/>\n<text text-anchor=\"middle\" x=\"14.75\" y=\"-41.7\" font-family=\"Times,serif\" font-size=\"14.00\">A</text>\n<polyline fill=\"none\" stroke=\"black\" points=\"27.62,-29 27.62,-64.5\"/>\n<text text-anchor=\"middle\" x=\"67.5\" y=\"-41.7\" font-family=\"Times,serif\" font-size=\"14.00\">data 2.0000</text>\n<polyline fill=\"none\" stroke=\"black\" points=\"107.38,-29 107.38,-64.5\"/>\n<text text-anchor=\"middle\" x=\"148\" y=\"-41.7\" font-family=\"Times,serif\" font-size=\"14.00\">grad 0.0000</text>\n</g>\n<!-- 4777098896&#45;&gt;4779102272* -->\n<g id=\"edge3\" class=\"edge\">\n<title>4777098896&#45;&gt;4779102272*</title>\n<path fill=\"none\" stroke=\"black\" d=\"M188.95,-62.52C198.42,-64.15 207.59,-65.74 215.88,-67.17\"/>\n<polygon fill=\"black\" stroke=\"black\" points=\"215.02,-70.58 225.47,-68.83 216.21,-63.68 215.02,-70.58\"/>\n</g>\n</g>\n</svg>\n",
      "text/plain": [
       "<graphviz.graphs.Digraph at 0x115138830>"
      ]
     },
     "execution_count": 109,
     "metadata": {},
     "output_type": "execute_result"
    }
   ],
   "source": [
    "draw_dot(d)"
   ]
  },
  {
   "cell_type": "code",
   "execution_count": 110,
   "metadata": {},
   "outputs": [],
   "source": [
    "x1 = Value(2.0, label='x1')\n",
    "x2 = Value(0.0, label='x2')\n",
    "# weights w1,w2\n",
    "w1 = Value(-3.0, label='w1')\n",
    "w2 = Value(1.0, label='w2')\n",
    "# bias of the neuron\n",
    "b = Value(6.8813735870195432, label='b')\n",
    "# x1*w1 + x2*w2 + b\n",
    "x1w1 = x1*w1; x1w1.label = 'x1*w1'\n",
    "x2w2 = x2*w2; x2w2.label = 'x2*w2'\n",
    "x1w1x2w2 = x1w1 + x2w2; x1w1x2w2.label = 'x1*w1 + x2*w2'\n",
    "n = x1w1x2w2 + b; n.label = 'n'\n",
    "o = n.tanh(); o.label = 'o'"
   ]
  },
  {
   "cell_type": "code",
   "execution_count": 111,
   "metadata": {},
   "outputs": [
    {
     "data": {
      "image/svg+xml": "<?xml version=\"1.0\" encoding=\"UTF-8\" standalone=\"no\"?>\n<!DOCTYPE svg PUBLIC \"-//W3C//DTD SVG 1.1//EN\"\n \"http://www.w3.org/Graphics/SVG/1.1/DTD/svg11.dtd\">\n<!-- Generated by graphviz version 12.1.2 (20240928.0832)\n -->\n<!-- Pages: 1 -->\n<svg width=\"1567pt\" height=\"210pt\"\n viewBox=\"0.00 0.00 1566.50 210.00\" xmlns=\"http://www.w3.org/2000/svg\" xmlns:xlink=\"http://www.w3.org/1999/xlink\">\n<g id=\"graph0\" class=\"graph\" transform=\"scale(1 1) rotate(0) translate(4 206)\">\n<polygon fill=\"white\" stroke=\"none\" points=\"-4,4 -4,-206 1562.5,-206 1562.5,4 -4,4\"/>\n<!-- 4779264048 -->\n<g id=\"node1\" class=\"node\">\n<title>4779264048</title>\n<polygon fill=\"none\" stroke=\"black\" points=\"668.25,-82.5 668.25,-118.5 939,-118.5 939,-82.5 668.25,-82.5\"/>\n<text text-anchor=\"middle\" x=\"720.88\" y=\"-95.7\" font-family=\"Times,serif\" font-size=\"14.00\">x1*w1 + x2*w2</text>\n<polyline fill=\"none\" stroke=\"black\" points=\"773.5,-83 773.5,-118.5\"/>\n<text text-anchor=\"middle\" x=\"815.62\" y=\"-95.7\" font-family=\"Times,serif\" font-size=\"14.00\">data &#45;6.0000</text>\n<polyline fill=\"none\" stroke=\"black\" points=\"857.75,-83 857.75,-118.5\"/>\n<text text-anchor=\"middle\" x=\"898.38\" y=\"-95.7\" font-family=\"Times,serif\" font-size=\"14.00\">grad 0.0000</text>\n</g>\n<!-- 4779271728+ -->\n<g id=\"node4\" class=\"node\">\n<title>4779271728+</title>\n<ellipse fill=\"none\" stroke=\"black\" cx=\"1002\" cy=\"-127.5\" rx=\"27\" ry=\"18\"/>\n<text text-anchor=\"middle\" x=\"1002\" y=\"-122.45\" font-family=\"Times,serif\" font-size=\"14.00\">+</text>\n</g>\n<!-- 4779264048&#45;&gt;4779271728+ -->\n<g id=\"edge12\" class=\"edge\">\n<title>4779264048&#45;&gt;4779271728+</title>\n<path fill=\"none\" stroke=\"black\" d=\"M939.14,-118.99C947.95,-120.21 956.31,-121.36 963.87,-122.4\"/>\n<polygon fill=\"black\" stroke=\"black\" points=\"963.16,-125.83 973.55,-123.73 964.12,-118.9 963.16,-125.83\"/>\n</g>\n<!-- 4779264048+ -->\n<g id=\"node2\" class=\"node\">\n<title>4779264048+</title>\n<ellipse fill=\"none\" stroke=\"black\" cx=\"605.25\" cy=\"-100.5\" rx=\"27\" ry=\"18\"/>\n<text text-anchor=\"middle\" x=\"605.25\" y=\"-95.45\" font-family=\"Times,serif\" font-size=\"14.00\">+</text>\n</g>\n<!-- 4779264048+&#45;&gt;4779264048 -->\n<g id=\"edge1\" class=\"edge\">\n<title>4779264048+&#45;&gt;4779264048</title>\n<path fill=\"none\" stroke=\"black\" d=\"M632.73,-100.5C639.73,-100.5 647.79,-100.5 656.52,-100.5\"/>\n<polygon fill=\"black\" stroke=\"black\" points=\"656.39,-104 666.39,-100.5 656.39,-97 656.39,-104\"/>\n</g>\n<!-- 4779271728 -->\n<g id=\"node3\" class=\"node\">\n<title>4779271728</title>\n<polygon fill=\"none\" stroke=\"black\" points=\"1065,-109.5 1065,-145.5 1248.75,-145.5 1248.75,-109.5 1065,-109.5\"/>\n<text text-anchor=\"middle\" x=\"1076.38\" y=\"-122.7\" font-family=\"Times,serif\" font-size=\"14.00\">n</text>\n<polyline fill=\"none\" stroke=\"black\" points=\"1087.75,-110 1087.75,-145.5\"/>\n<text text-anchor=\"middle\" x=\"1127.62\" y=\"-122.7\" font-family=\"Times,serif\" font-size=\"14.00\">data 0.8814</text>\n<polyline fill=\"none\" stroke=\"black\" points=\"1167.5,-110 1167.5,-145.5\"/>\n<text text-anchor=\"middle\" x=\"1208.12\" y=\"-122.7\" font-family=\"Times,serif\" font-size=\"14.00\">grad 0.0000</text>\n</g>\n<!-- 4779270960tanh -->\n<g id=\"node12\" class=\"node\">\n<title>4779270960tanh</title>\n<ellipse fill=\"none\" stroke=\"black\" cx=\"1311.75\" cy=\"-127.5\" rx=\"27\" ry=\"18\"/>\n<text text-anchor=\"middle\" x=\"1311.75\" y=\"-122.45\" font-family=\"Times,serif\" font-size=\"14.00\">tanh</text>\n</g>\n<!-- 4779271728&#45;&gt;4779270960tanh -->\n<g id=\"edge10\" class=\"edge\">\n<title>4779271728&#45;&gt;4779270960tanh</title>\n<path fill=\"none\" stroke=\"black\" d=\"M1249.01,-127.5C1257.39,-127.5 1265.52,-127.5 1272.98,-127.5\"/>\n<polygon fill=\"black\" stroke=\"black\" points=\"1272.95,-131 1282.95,-127.5 1272.95,-124 1272.95,-131\"/>\n</g>\n<!-- 4779271728+&#45;&gt;4779271728 -->\n<g id=\"edge2\" class=\"edge\">\n<title>4779271728+&#45;&gt;4779271728</title>\n<path fill=\"none\" stroke=\"black\" d=\"M1029.28,-127.5C1036.42,-127.5 1044.61,-127.5 1053.32,-127.5\"/>\n<polygon fill=\"black\" stroke=\"black\" points=\"1053.06,-131 1063.06,-127.5 1053.06,-124 1053.06,-131\"/>\n</g>\n<!-- 4777626704 -->\n<g id=\"node5\" class=\"node\">\n<title>4777626704</title>\n<polygon fill=\"none\" stroke=\"black\" points=\"324,-110.5 324,-146.5 542.25,-146.5 542.25,-110.5 324,-110.5\"/>\n<text text-anchor=\"middle\" x=\"350.38\" y=\"-123.7\" font-family=\"Times,serif\" font-size=\"14.00\">x1*w1</text>\n<polyline fill=\"none\" stroke=\"black\" points=\"376.75,-111 376.75,-146.5\"/>\n<text text-anchor=\"middle\" x=\"418.88\" y=\"-123.7\" font-family=\"Times,serif\" font-size=\"14.00\">data &#45;6.0000</text>\n<polyline fill=\"none\" stroke=\"black\" points=\"461,-111 461,-146.5\"/>\n<text text-anchor=\"middle\" x=\"501.62\" y=\"-123.7\" font-family=\"Times,serif\" font-size=\"14.00\">grad 0.0000</text>\n</g>\n<!-- 4777626704&#45;&gt;4779264048+ -->\n<g id=\"edge8\" class=\"edge\">\n<title>4777626704&#45;&gt;4779264048+</title>\n<path fill=\"none\" stroke=\"black\" d=\"M542.35,-110.69C551.12,-109.24 559.54,-107.86 567.19,-106.6\"/>\n<polygon fill=\"black\" stroke=\"black\" points=\"567.72,-110.06 577.02,-104.98 566.58,-103.15 567.72,-110.06\"/>\n</g>\n<!-- 4777626704* -->\n<g id=\"node6\" class=\"node\">\n<title>4777626704*</title>\n<ellipse fill=\"none\" stroke=\"black\" cx=\"261\" cy=\"-128.5\" rx=\"27\" ry=\"18\"/>\n<text text-anchor=\"middle\" x=\"261\" y=\"-123.45\" font-family=\"Times,serif\" font-size=\"14.00\">*</text>\n</g>\n<!-- 4777626704*&#45;&gt;4777626704 -->\n<g id=\"edge3\" class=\"edge\">\n<title>4777626704*&#45;&gt;4777626704</title>\n<path fill=\"none\" stroke=\"black\" d=\"M288.21,-128.5C295.29,-128.5 303.43,-128.5 312.17,-128.5\"/>\n<polygon fill=\"black\" stroke=\"black\" points=\"312.01,-132 322.01,-128.5 312.01,-125 312.01,-132\"/>\n</g>\n<!-- 4779245152 -->\n<g id=\"node7\" class=\"node\">\n<title>4779245152</title>\n<polygon fill=\"none\" stroke=\"black\" points=\"3.75,-165.5 3.75,-201.5 194.25,-201.5 194.25,-165.5 3.75,-165.5\"/>\n<text text-anchor=\"middle\" x=\"18.5\" y=\"-178.7\" font-family=\"Times,serif\" font-size=\"14.00\">x1</text>\n<polyline fill=\"none\" stroke=\"black\" points=\"33.25,-166 33.25,-201.5\"/>\n<text text-anchor=\"middle\" x=\"73.12\" y=\"-178.7\" font-family=\"Times,serif\" font-size=\"14.00\">data 2.0000</text>\n<polyline fill=\"none\" stroke=\"black\" points=\"113,-166 113,-201.5\"/>\n<text text-anchor=\"middle\" x=\"153.62\" y=\"-178.7\" font-family=\"Times,serif\" font-size=\"14.00\">grad 0.0000</text>\n</g>\n<!-- 4779245152&#45;&gt;4777626704* -->\n<g id=\"edge14\" class=\"edge\">\n<title>4779245152&#45;&gt;4777626704*</title>\n<path fill=\"none\" stroke=\"black\" d=\"M172.12,-165.01C180.9,-162.35 189.7,-159.5 198,-156.5 208.09,-152.86 218.82,-148.27 228.47,-143.88\"/>\n<polygon fill=\"black\" stroke=\"black\" points=\"229.86,-147.09 237.45,-139.69 226.9,-140.75 229.86,-147.09\"/>\n</g>\n<!-- 4777624736 -->\n<g id=\"node8\" class=\"node\">\n<title>4777624736</title>\n<polygon fill=\"none\" stroke=\"black\" points=\"711.75,-137.5 711.75,-173.5 895.5,-173.5 895.5,-137.5 711.75,-137.5\"/>\n<text text-anchor=\"middle\" x=\"723.12\" y=\"-150.7\" font-family=\"Times,serif\" font-size=\"14.00\">b</text>\n<polyline fill=\"none\" stroke=\"black\" points=\"734.5,-138 734.5,-173.5\"/>\n<text text-anchor=\"middle\" x=\"774.38\" y=\"-150.7\" font-family=\"Times,serif\" font-size=\"14.00\">data 6.8814</text>\n<polyline fill=\"none\" stroke=\"black\" points=\"814.25,-138 814.25,-173.5\"/>\n<text text-anchor=\"middle\" x=\"854.88\" y=\"-150.7\" font-family=\"Times,serif\" font-size=\"14.00\">grad 0.0000</text>\n</g>\n<!-- 4777624736&#45;&gt;4779271728+ -->\n<g id=\"edge11\" class=\"edge\">\n<title>4777624736&#45;&gt;4779271728+</title>\n<path fill=\"none\" stroke=\"black\" d=\"M895.91,-142.48C919.97,-139.05 944.58,-135.55 963.93,-132.79\"/>\n<polygon fill=\"black\" stroke=\"black\" points=\"964.34,-136.26 973.75,-131.39 963.35,-129.33 964.34,-136.26\"/>\n</g>\n<!-- 4779271968 -->\n<g id=\"node9\" class=\"node\">\n<title>4779271968</title>\n<polygon fill=\"none\" stroke=\"black\" points=\"326.25,-55.5 326.25,-91.5 540,-91.5 540,-55.5 326.25,-55.5\"/>\n<text text-anchor=\"middle\" x=\"352.62\" y=\"-68.7\" font-family=\"Times,serif\" font-size=\"14.00\">x2*w2</text>\n<polyline fill=\"none\" stroke=\"black\" points=\"379,-56 379,-91.5\"/>\n<text text-anchor=\"middle\" x=\"418.88\" y=\"-68.7\" font-family=\"Times,serif\" font-size=\"14.00\">data 0.0000</text>\n<polyline fill=\"none\" stroke=\"black\" points=\"458.75,-56 458.75,-91.5\"/>\n<text text-anchor=\"middle\" x=\"499.38\" y=\"-68.7\" font-family=\"Times,serif\" font-size=\"14.00\">grad 0.0000</text>\n</g>\n<!-- 4779271968&#45;&gt;4779264048+ -->\n<g id=\"edge13\" class=\"edge\">\n<title>4779271968&#45;&gt;4779264048+</title>\n<path fill=\"none\" stroke=\"black\" d=\"M540.42,-90.37C549.89,-91.87 559,-93.32 567.21,-94.62\"/>\n<polygon fill=\"black\" stroke=\"black\" points=\"566.63,-98.07 577.05,-96.18 567.72,-91.16 566.63,-98.07\"/>\n</g>\n<!-- 4779271968* -->\n<g id=\"node10\" class=\"node\">\n<title>4779271968*</title>\n<ellipse fill=\"none\" stroke=\"black\" cx=\"261\" cy=\"-73.5\" rx=\"27\" ry=\"18\"/>\n<text text-anchor=\"middle\" x=\"261\" y=\"-68.45\" font-family=\"Times,serif\" font-size=\"14.00\">*</text>\n</g>\n<!-- 4779271968*&#45;&gt;4779271968 -->\n<g id=\"edge4\" class=\"edge\">\n<title>4779271968*&#45;&gt;4779271968</title>\n<path fill=\"none\" stroke=\"black\" d=\"M288.21,-73.5C296,-73.5 305.08,-73.5 314.82,-73.5\"/>\n<polygon fill=\"black\" stroke=\"black\" points=\"314.55,-77 324.55,-73.5 314.55,-70 314.55,-77\"/>\n</g>\n<!-- 4779270960 -->\n<g id=\"node11\" class=\"node\">\n<title>4779270960</title>\n<polygon fill=\"none\" stroke=\"black\" points=\"1374.75,-109.5 1374.75,-145.5 1558.5,-145.5 1558.5,-109.5 1374.75,-109.5\"/>\n<text text-anchor=\"middle\" x=\"1386.12\" y=\"-122.7\" font-family=\"Times,serif\" font-size=\"14.00\">o</text>\n<polyline fill=\"none\" stroke=\"black\" points=\"1397.5,-110 1397.5,-145.5\"/>\n<text text-anchor=\"middle\" x=\"1437.38\" y=\"-122.7\" font-family=\"Times,serif\" font-size=\"14.00\">data 0.7071</text>\n<polyline fill=\"none\" stroke=\"black\" points=\"1477.25,-110 1477.25,-145.5\"/>\n<text text-anchor=\"middle\" x=\"1517.88\" y=\"-122.7\" font-family=\"Times,serif\" font-size=\"14.00\">grad 0.0000</text>\n</g>\n<!-- 4779270960tanh&#45;&gt;4779270960 -->\n<g id=\"edge5\" class=\"edge\">\n<title>4779270960tanh&#45;&gt;4779270960</title>\n<path fill=\"none\" stroke=\"black\" d=\"M1339.03,-127.5C1346.17,-127.5 1354.36,-127.5 1363.07,-127.5\"/>\n<polygon fill=\"black\" stroke=\"black\" points=\"1362.81,-131 1372.81,-127.5 1362.81,-124 1362.81,-131\"/>\n</g>\n<!-- 4777097600 -->\n<g id=\"node13\" class=\"node\">\n<title>4777097600</title>\n<polygon fill=\"none\" stroke=\"black\" points=\"3.75,-55.5 3.75,-91.5 194.25,-91.5 194.25,-55.5 3.75,-55.5\"/>\n<text text-anchor=\"middle\" x=\"18.5\" y=\"-68.7\" font-family=\"Times,serif\" font-size=\"14.00\">x2</text>\n<polyline fill=\"none\" stroke=\"black\" points=\"33.25,-56 33.25,-91.5\"/>\n<text text-anchor=\"middle\" x=\"73.12\" y=\"-68.7\" font-family=\"Times,serif\" font-size=\"14.00\">data 0.0000</text>\n<polyline fill=\"none\" stroke=\"black\" points=\"113,-56 113,-91.5\"/>\n<text text-anchor=\"middle\" x=\"153.62\" y=\"-68.7\" font-family=\"Times,serif\" font-size=\"14.00\">grad 0.0000</text>\n</g>\n<!-- 4777097600&#45;&gt;4779271968* -->\n<g id=\"edge9\" class=\"edge\">\n<title>4777097600&#45;&gt;4779271968*</title>\n<path fill=\"none\" stroke=\"black\" d=\"M194.46,-73.5C204.21,-73.5 213.66,-73.5 222.21,-73.5\"/>\n<polygon fill=\"black\" stroke=\"black\" points=\"222.12,-77 232.12,-73.5 222.12,-70 222.12,-77\"/>\n</g>\n<!-- 4777624400 -->\n<g id=\"node14\" class=\"node\">\n<title>4777624400</title>\n<polygon fill=\"none\" stroke=\"black\" points=\"2.25,-0.5 2.25,-36.5 195.75,-36.5 195.75,-0.5 2.25,-0.5\"/>\n<text text-anchor=\"middle\" x=\"18.5\" y=\"-13.7\" font-family=\"Times,serif\" font-size=\"14.00\">w2</text>\n<polyline fill=\"none\" stroke=\"black\" points=\"34.75,-1 34.75,-36.5\"/>\n<text text-anchor=\"middle\" x=\"74.62\" y=\"-13.7\" font-family=\"Times,serif\" font-size=\"14.00\">data 1.0000</text>\n<polyline fill=\"none\" stroke=\"black\" points=\"114.5,-1 114.5,-36.5\"/>\n<text text-anchor=\"middle\" x=\"155.12\" y=\"-13.7\" font-family=\"Times,serif\" font-size=\"14.00\">grad 0.0000</text>\n</g>\n<!-- 4777624400&#45;&gt;4779271968* -->\n<g id=\"edge6\" class=\"edge\">\n<title>4777624400&#45;&gt;4779271968*</title>\n<path fill=\"none\" stroke=\"black\" d=\"M168.91,-36.94C178.74,-39.93 188.67,-43.15 198,-46.5 207.96,-50.07 218.58,-54.47 228.18,-58.68\"/>\n<polygon fill=\"black\" stroke=\"black\" points=\"226.54,-61.78 237.1,-62.67 229.4,-55.39 226.54,-61.78\"/>\n</g>\n<!-- 4777639808 -->\n<g id=\"node15\" class=\"node\">\n<title>4777639808</title>\n<polygon fill=\"none\" stroke=\"black\" points=\"0,-110.5 0,-146.5 198,-146.5 198,-110.5 0,-110.5\"/>\n<text text-anchor=\"middle\" x=\"16.25\" y=\"-123.7\" font-family=\"Times,serif\" font-size=\"14.00\">w1</text>\n<polyline fill=\"none\" stroke=\"black\" points=\"32.5,-111 32.5,-146.5\"/>\n<text text-anchor=\"middle\" x=\"74.62\" y=\"-123.7\" font-family=\"Times,serif\" font-size=\"14.00\">data &#45;3.0000</text>\n<polyline fill=\"none\" stroke=\"black\" points=\"116.75,-111 116.75,-146.5\"/>\n<text text-anchor=\"middle\" x=\"157.38\" y=\"-123.7\" font-family=\"Times,serif\" font-size=\"14.00\">grad 0.0000</text>\n</g>\n<!-- 4777639808&#45;&gt;4777626704* -->\n<g id=\"edge7\" class=\"edge\">\n<title>4777639808&#45;&gt;4777626704*</title>\n<path fill=\"none\" stroke=\"black\" d=\"M198.14,-128.5C206.61,-128.5 214.8,-128.5 222.29,-128.5\"/>\n<polygon fill=\"black\" stroke=\"black\" points=\"222.29,-132 232.29,-128.5 222.29,-125 222.29,-132\"/>\n</g>\n</g>\n</svg>\n",
      "text/plain": [
       "<graphviz.graphs.Digraph at 0x11cdde660>"
      ]
     },
     "execution_count": 111,
     "metadata": {},
     "output_type": "execute_result"
    }
   ],
   "source": [
    "draw_dot(o)"
   ]
  },
  {
   "cell_type": "code",
   "execution_count": 112,
   "metadata": {},
   "outputs": [],
   "source": [
    "o.backward()"
   ]
  },
  {
   "cell_type": "code",
   "execution_count": 65,
   "metadata": {},
   "outputs": [
    {
     "data": {
      "image/svg+xml": "<?xml version=\"1.0\" encoding=\"UTF-8\" standalone=\"no\"?>\n<!DOCTYPE svg PUBLIC \"-//W3C//DTD SVG 1.1//EN\"\n \"http://www.w3.org/Graphics/SVG/1.1/DTD/svg11.dtd\">\n<!-- Generated by graphviz version 12.1.2 (20240928.0832)\n -->\n<!-- Pages: 1 -->\n<svg width=\"1567pt\" height=\"210pt\"\n viewBox=\"0.00 0.00 1566.50 210.00\" xmlns=\"http://www.w3.org/2000/svg\" xmlns:xlink=\"http://www.w3.org/1999/xlink\">\n<g id=\"graph0\" class=\"graph\" transform=\"scale(1 1) rotate(0) translate(4 206)\">\n<polygon fill=\"white\" stroke=\"none\" points=\"-4,4 -4,-206 1562.5,-206 1562.5,4 -4,4\"/>\n<!-- 4648550912 -->\n<g id=\"node1\" class=\"node\">\n<title>4648550912</title>\n<polygon fill=\"none\" stroke=\"black\" points=\"3.75,-165.5 3.75,-201.5 194.25,-201.5 194.25,-165.5 3.75,-165.5\"/>\n<text text-anchor=\"middle\" x=\"18.5\" y=\"-178.7\" font-family=\"Times,serif\" font-size=\"14.00\">x2</text>\n<polyline fill=\"none\" stroke=\"black\" points=\"33.25,-166 33.25,-201.5\"/>\n<text text-anchor=\"middle\" x=\"73.12\" y=\"-178.7\" font-family=\"Times,serif\" font-size=\"14.00\">data 0.0000</text>\n<polyline fill=\"none\" stroke=\"black\" points=\"113,-166 113,-201.5\"/>\n<text text-anchor=\"middle\" x=\"153.62\" y=\"-178.7\" font-family=\"Times,serif\" font-size=\"14.00\">grad 0.5000</text>\n</g>\n<!-- 4648555952* -->\n<g id=\"node15\" class=\"node\">\n<title>4648555952*</title>\n<ellipse fill=\"none\" stroke=\"black\" cx=\"261\" cy=\"-128.5\" rx=\"27\" ry=\"18\"/>\n<text text-anchor=\"middle\" x=\"261\" y=\"-123.45\" font-family=\"Times,serif\" font-size=\"14.00\">*</text>\n</g>\n<!-- 4648550912&#45;&gt;4648555952* -->\n<g id=\"edge8\" class=\"edge\">\n<title>4648550912&#45;&gt;4648555952*</title>\n<path fill=\"none\" stroke=\"black\" d=\"M172.12,-165.01C180.9,-162.35 189.7,-159.5 198,-156.5 208.09,-152.86 218.82,-148.27 228.47,-143.88\"/>\n<polygon fill=\"black\" stroke=\"black\" points=\"229.86,-147.09 237.45,-139.69 226.9,-140.75 229.86,-147.09\"/>\n</g>\n<!-- 4648560656 -->\n<g id=\"node2\" class=\"node\">\n<title>4648560656</title>\n<polygon fill=\"none\" stroke=\"black\" points=\"0,-55.5 0,-91.5 198,-91.5 198,-55.5 0,-55.5\"/>\n<text text-anchor=\"middle\" x=\"16.25\" y=\"-68.7\" font-family=\"Times,serif\" font-size=\"14.00\">w1</text>\n<polyline fill=\"none\" stroke=\"black\" points=\"32.5,-56 32.5,-91.5\"/>\n<text text-anchor=\"middle\" x=\"74.62\" y=\"-68.7\" font-family=\"Times,serif\" font-size=\"14.00\">data &#45;3.0000</text>\n<polyline fill=\"none\" stroke=\"black\" points=\"116.75,-56 116.75,-91.5\"/>\n<text text-anchor=\"middle\" x=\"157.38\" y=\"-68.7\" font-family=\"Times,serif\" font-size=\"14.00\">grad 1.0000</text>\n</g>\n<!-- 4648557248* -->\n<g id=\"node9\" class=\"node\">\n<title>4648557248*</title>\n<ellipse fill=\"none\" stroke=\"black\" cx=\"261\" cy=\"-73.5\" rx=\"27\" ry=\"18\"/>\n<text text-anchor=\"middle\" x=\"261\" y=\"-68.45\" font-family=\"Times,serif\" font-size=\"14.00\">*</text>\n</g>\n<!-- 4648560656&#45;&gt;4648557248* -->\n<g id=\"edge7\" class=\"edge\">\n<title>4648560656&#45;&gt;4648557248*</title>\n<path fill=\"none\" stroke=\"black\" d=\"M198.14,-73.5C206.61,-73.5 214.8,-73.5 222.29,-73.5\"/>\n<polygon fill=\"black\" stroke=\"black\" points=\"222.29,-77 232.29,-73.5 222.29,-70 222.29,-77\"/>\n</g>\n<!-- 4648560224 -->\n<g id=\"node3\" class=\"node\">\n<title>4648560224</title>\n<polygon fill=\"none\" stroke=\"black\" points=\"711.75,-27.5 711.75,-63.5 895.5,-63.5 895.5,-27.5 711.75,-27.5\"/>\n<text text-anchor=\"middle\" x=\"723.12\" y=\"-40.7\" font-family=\"Times,serif\" font-size=\"14.00\">b</text>\n<polyline fill=\"none\" stroke=\"black\" points=\"734.5,-28 734.5,-63.5\"/>\n<text text-anchor=\"middle\" x=\"774.38\" y=\"-40.7\" font-family=\"Times,serif\" font-size=\"14.00\">data 6.8814</text>\n<polyline fill=\"none\" stroke=\"black\" points=\"814.25,-28 814.25,-63.5\"/>\n<text text-anchor=\"middle\" x=\"854.88\" y=\"-40.7\" font-family=\"Times,serif\" font-size=\"14.00\">grad 0.5000</text>\n</g>\n<!-- 4648561280+ -->\n<g id=\"node5\" class=\"node\">\n<title>4648561280+</title>\n<ellipse fill=\"none\" stroke=\"black\" cx=\"1002\" cy=\"-72.5\" rx=\"27\" ry=\"18\"/>\n<text text-anchor=\"middle\" x=\"1002\" y=\"-67.45\" font-family=\"Times,serif\" font-size=\"14.00\">+</text>\n</g>\n<!-- 4648560224&#45;&gt;4648561280+ -->\n<g id=\"edge11\" class=\"edge\">\n<title>4648560224&#45;&gt;4648561280+</title>\n<path fill=\"none\" stroke=\"black\" d=\"M895.91,-58.05C919.97,-61.36 944.58,-64.74 963.93,-67.4\"/>\n<polygon fill=\"black\" stroke=\"black\" points=\"963.36,-70.86 973.75,-68.75 964.32,-63.92 963.36,-70.86\"/>\n</g>\n<!-- 4648561280 -->\n<g id=\"node4\" class=\"node\">\n<title>4648561280</title>\n<polygon fill=\"none\" stroke=\"black\" points=\"1065,-54.5 1065,-90.5 1248.75,-90.5 1248.75,-54.5 1065,-54.5\"/>\n<text text-anchor=\"middle\" x=\"1076.38\" y=\"-67.7\" font-family=\"Times,serif\" font-size=\"14.00\">n</text>\n<polyline fill=\"none\" stroke=\"black\" points=\"1087.75,-55 1087.75,-90.5\"/>\n<text text-anchor=\"middle\" x=\"1127.62\" y=\"-67.7\" font-family=\"Times,serif\" font-size=\"14.00\">data 0.8814</text>\n<polyline fill=\"none\" stroke=\"black\" points=\"1167.5,-55 1167.5,-90.5\"/>\n<text text-anchor=\"middle\" x=\"1208.12\" y=\"-67.7\" font-family=\"Times,serif\" font-size=\"14.00\">grad 0.5000</text>\n</g>\n<!-- 4648554848tanh -->\n<g id=\"node11\" class=\"node\">\n<title>4648554848tanh</title>\n<ellipse fill=\"none\" stroke=\"black\" cx=\"1311.75\" cy=\"-72.5\" rx=\"27\" ry=\"18\"/>\n<text text-anchor=\"middle\" x=\"1311.75\" y=\"-67.45\" font-family=\"Times,serif\" font-size=\"14.00\">tanh</text>\n</g>\n<!-- 4648561280&#45;&gt;4648554848tanh -->\n<g id=\"edge9\" class=\"edge\">\n<title>4648561280&#45;&gt;4648554848tanh</title>\n<path fill=\"none\" stroke=\"black\" d=\"M1249.01,-72.5C1257.39,-72.5 1265.52,-72.5 1272.98,-72.5\"/>\n<polygon fill=\"black\" stroke=\"black\" points=\"1272.95,-76 1282.95,-72.5 1272.95,-69 1272.95,-76\"/>\n</g>\n<!-- 4648561280+&#45;&gt;4648561280 -->\n<g id=\"edge1\" class=\"edge\">\n<title>4648561280+&#45;&gt;4648561280</title>\n<path fill=\"none\" stroke=\"black\" d=\"M1029.28,-72.5C1036.42,-72.5 1044.61,-72.5 1053.32,-72.5\"/>\n<polygon fill=\"black\" stroke=\"black\" points=\"1053.06,-76 1063.06,-72.5 1053.06,-69 1053.06,-76\"/>\n</g>\n<!-- 4648560800 -->\n<g id=\"node6\" class=\"node\">\n<title>4648560800</title>\n<polygon fill=\"none\" stroke=\"black\" points=\"1.5,-0.5 1.5,-36.5 196.5,-36.5 196.5,-0.5 1.5,-0.5\"/>\n<text text-anchor=\"middle\" x=\"16.25\" y=\"-13.7\" font-family=\"Times,serif\" font-size=\"14.00\">x1</text>\n<polyline fill=\"none\" stroke=\"black\" points=\"31,-1 31,-36.5\"/>\n<text text-anchor=\"middle\" x=\"70.88\" y=\"-13.7\" font-family=\"Times,serif\" font-size=\"14.00\">data 2.0000</text>\n<polyline fill=\"none\" stroke=\"black\" points=\"110.75,-1 110.75,-36.5\"/>\n<text text-anchor=\"middle\" x=\"153.62\" y=\"-13.7\" font-family=\"Times,serif\" font-size=\"14.00\">grad &#45;1.5000</text>\n</g>\n<!-- 4648560800&#45;&gt;4648557248* -->\n<g id=\"edge14\" class=\"edge\">\n<title>4648560800&#45;&gt;4648557248*</title>\n<path fill=\"none\" stroke=\"black\" d=\"M172.12,-36.99C180.9,-39.65 189.7,-42.5 198,-45.5 208.09,-49.14 218.82,-53.73 228.47,-58.12\"/>\n<polygon fill=\"black\" stroke=\"black\" points=\"226.9,-61.25 237.45,-62.31 229.86,-54.91 226.9,-61.25\"/>\n</g>\n<!-- 4648554656 -->\n<g id=\"node7\" class=\"node\">\n<title>4648554656</title>\n<polygon fill=\"none\" stroke=\"black\" points=\"2.25,-110.5 2.25,-146.5 195.75,-146.5 195.75,-110.5 2.25,-110.5\"/>\n<text text-anchor=\"middle\" x=\"18.5\" y=\"-123.7\" font-family=\"Times,serif\" font-size=\"14.00\">w2</text>\n<polyline fill=\"none\" stroke=\"black\" points=\"34.75,-111 34.75,-146.5\"/>\n<text text-anchor=\"middle\" x=\"74.62\" y=\"-123.7\" font-family=\"Times,serif\" font-size=\"14.00\">data 1.0000</text>\n<polyline fill=\"none\" stroke=\"black\" points=\"114.5,-111 114.5,-146.5\"/>\n<text text-anchor=\"middle\" x=\"155.12\" y=\"-123.7\" font-family=\"Times,serif\" font-size=\"14.00\">grad 0.0000</text>\n</g>\n<!-- 4648554656&#45;&gt;4648555952* -->\n<g id=\"edge6\" class=\"edge\">\n<title>4648554656&#45;&gt;4648555952*</title>\n<path fill=\"none\" stroke=\"black\" d=\"M195.84,-128.5C205.14,-128.5 214.15,-128.5 222.32,-128.5\"/>\n<polygon fill=\"black\" stroke=\"black\" points=\"222.13,-132 232.13,-128.5 222.13,-125 222.13,-132\"/>\n</g>\n<!-- 4648557248 -->\n<g id=\"node8\" class=\"node\">\n<title>4648557248</title>\n<polygon fill=\"none\" stroke=\"black\" points=\"324,-55.5 324,-91.5 542.25,-91.5 542.25,-55.5 324,-55.5\"/>\n<text text-anchor=\"middle\" x=\"350.38\" y=\"-68.7\" font-family=\"Times,serif\" font-size=\"14.00\">x1*w1</text>\n<polyline fill=\"none\" stroke=\"black\" points=\"376.75,-56 376.75,-91.5\"/>\n<text text-anchor=\"middle\" x=\"418.88\" y=\"-68.7\" font-family=\"Times,serif\" font-size=\"14.00\">data &#45;6.0000</text>\n<polyline fill=\"none\" stroke=\"black\" points=\"461,-56 461,-91.5\"/>\n<text text-anchor=\"middle\" x=\"501.62\" y=\"-68.7\" font-family=\"Times,serif\" font-size=\"14.00\">grad 0.5000</text>\n</g>\n<!-- 4648557968+ -->\n<g id=\"node13\" class=\"node\">\n<title>4648557968+</title>\n<ellipse fill=\"none\" stroke=\"black\" cx=\"605.25\" cy=\"-100.5\" rx=\"27\" ry=\"18\"/>\n<text text-anchor=\"middle\" x=\"605.25\" y=\"-95.45\" font-family=\"Times,serif\" font-size=\"14.00\">+</text>\n</g>\n<!-- 4648557248&#45;&gt;4648557968+ -->\n<g id=\"edge10\" class=\"edge\">\n<title>4648557248&#45;&gt;4648557968+</title>\n<path fill=\"none\" stroke=\"black\" d=\"M542.35,-90.68C551.12,-92.07 559.54,-93.4 567.19,-94.62\"/>\n<polygon fill=\"black\" stroke=\"black\" points=\"566.59,-98.07 577.02,-96.18 567.69,-91.15 566.59,-98.07\"/>\n</g>\n<!-- 4648557248*&#45;&gt;4648557248 -->\n<g id=\"edge2\" class=\"edge\">\n<title>4648557248*&#45;&gt;4648557248</title>\n<path fill=\"none\" stroke=\"black\" d=\"M288.21,-73.5C295.29,-73.5 303.43,-73.5 312.17,-73.5\"/>\n<polygon fill=\"black\" stroke=\"black\" points=\"312.01,-77 322.01,-73.5 312.01,-70 312.01,-77\"/>\n</g>\n<!-- 4648554848 -->\n<g id=\"node10\" class=\"node\">\n<title>4648554848</title>\n<polygon fill=\"none\" stroke=\"black\" points=\"1374.75,-54.5 1374.75,-90.5 1558.5,-90.5 1558.5,-54.5 1374.75,-54.5\"/>\n<text text-anchor=\"middle\" x=\"1386.12\" y=\"-67.7\" font-family=\"Times,serif\" font-size=\"14.00\">o</text>\n<polyline fill=\"none\" stroke=\"black\" points=\"1397.5,-55 1397.5,-90.5\"/>\n<text text-anchor=\"middle\" x=\"1437.38\" y=\"-67.7\" font-family=\"Times,serif\" font-size=\"14.00\">data 0.7071</text>\n<polyline fill=\"none\" stroke=\"black\" points=\"1477.25,-55 1477.25,-90.5\"/>\n<text text-anchor=\"middle\" x=\"1517.88\" y=\"-67.7\" font-family=\"Times,serif\" font-size=\"14.00\">grad 1.0000</text>\n</g>\n<!-- 4648554848tanh&#45;&gt;4648554848 -->\n<g id=\"edge3\" class=\"edge\">\n<title>4648554848tanh&#45;&gt;4648554848</title>\n<path fill=\"none\" stroke=\"black\" d=\"M1339.03,-72.5C1346.17,-72.5 1354.36,-72.5 1363.07,-72.5\"/>\n<polygon fill=\"black\" stroke=\"black\" points=\"1362.81,-76 1372.81,-72.5 1362.81,-69 1362.81,-76\"/>\n</g>\n<!-- 4648557968 -->\n<g id=\"node12\" class=\"node\">\n<title>4648557968</title>\n<polygon fill=\"none\" stroke=\"black\" points=\"668.25,-82.5 668.25,-118.5 939,-118.5 939,-82.5 668.25,-82.5\"/>\n<text text-anchor=\"middle\" x=\"720.88\" y=\"-95.7\" font-family=\"Times,serif\" font-size=\"14.00\">x1*w1 + x2*w2</text>\n<polyline fill=\"none\" stroke=\"black\" points=\"773.5,-83 773.5,-118.5\"/>\n<text text-anchor=\"middle\" x=\"815.62\" y=\"-95.7\" font-family=\"Times,serif\" font-size=\"14.00\">data &#45;6.0000</text>\n<polyline fill=\"none\" stroke=\"black\" points=\"857.75,-83 857.75,-118.5\"/>\n<text text-anchor=\"middle\" x=\"898.38\" y=\"-95.7\" font-family=\"Times,serif\" font-size=\"14.00\">grad 0.5000</text>\n</g>\n<!-- 4648557968&#45;&gt;4648561280+ -->\n<g id=\"edge13\" class=\"edge\">\n<title>4648557968&#45;&gt;4648561280+</title>\n<path fill=\"none\" stroke=\"black\" d=\"M934.24,-82.02C944.99,-80.49 955.18,-79.03 964.21,-77.75\"/>\n<polygon fill=\"black\" stroke=\"black\" points=\"964.46,-81.25 973.86,-76.37 963.47,-74.32 964.46,-81.25\"/>\n</g>\n<!-- 4648557968+&#45;&gt;4648557968 -->\n<g id=\"edge4\" class=\"edge\">\n<title>4648557968+&#45;&gt;4648557968</title>\n<path fill=\"none\" stroke=\"black\" d=\"M632.73,-100.5C639.73,-100.5 647.79,-100.5 656.52,-100.5\"/>\n<polygon fill=\"black\" stroke=\"black\" points=\"656.39,-104 666.39,-100.5 656.39,-97 656.39,-104\"/>\n</g>\n<!-- 4648555952 -->\n<g id=\"node14\" class=\"node\">\n<title>4648555952</title>\n<polygon fill=\"none\" stroke=\"black\" points=\"326.25,-110.5 326.25,-146.5 540,-146.5 540,-110.5 326.25,-110.5\"/>\n<text text-anchor=\"middle\" x=\"352.62\" y=\"-123.7\" font-family=\"Times,serif\" font-size=\"14.00\">x2*w2</text>\n<polyline fill=\"none\" stroke=\"black\" points=\"379,-111 379,-146.5\"/>\n<text text-anchor=\"middle\" x=\"418.88\" y=\"-123.7\" font-family=\"Times,serif\" font-size=\"14.00\">data 0.0000</text>\n<polyline fill=\"none\" stroke=\"black\" points=\"458.75,-111 458.75,-146.5\"/>\n<text text-anchor=\"middle\" x=\"499.38\" y=\"-123.7\" font-family=\"Times,serif\" font-size=\"14.00\">grad 0.5000</text>\n</g>\n<!-- 4648555952&#45;&gt;4648557968+ -->\n<g id=\"edge12\" class=\"edge\">\n<title>4648555952&#45;&gt;4648557968+</title>\n<path fill=\"none\" stroke=\"black\" d=\"M540.42,-111.01C549.89,-109.45 559,-107.95 567.21,-106.6\"/>\n<polygon fill=\"black\" stroke=\"black\" points=\"567.75,-110.05 577.05,-104.98 566.62,-103.15 567.75,-110.05\"/>\n</g>\n<!-- 4648555952*&#45;&gt;4648555952 -->\n<g id=\"edge5\" class=\"edge\">\n<title>4648555952*&#45;&gt;4648555952</title>\n<path fill=\"none\" stroke=\"black\" d=\"M288.21,-128.5C296,-128.5 305.08,-128.5 314.82,-128.5\"/>\n<polygon fill=\"black\" stroke=\"black\" points=\"314.55,-132 324.55,-128.5 314.55,-125 314.55,-132\"/>\n</g>\n</g>\n</svg>\n",
      "text/plain": [
       "<graphviz.graphs.Digraph at 0x115136780>"
      ]
     },
     "execution_count": 65,
     "metadata": {},
     "output_type": "execute_result"
    }
   ],
   "source": [
    "draw_dot(o)"
   ]
  },
  {
   "cell_type": "code",
   "execution_count": 113,
   "metadata": {},
   "outputs": [],
   "source": [
    "import torch"
   ]
  },
  {
   "cell_type": "code",
   "execution_count": 141,
   "metadata": {},
   "outputs": [],
   "source": [
    "import random\n",
    "\n",
    "class Neuron:\n",
    "    def __init__(self, nin):\n",
    "        self.w = [Value(random.uniform(-1,1)) for _ in range(nin)]\n",
    "        self.b = Value(random.uniform(-1,1))\n",
    "\n",
    "    def __call__(self, x):\n",
    "        act = sum((wi * xi for wi, xi in zip(self.w, x)), self.b)\n",
    "        out = act.tanh()\n",
    "        return out\n",
    "    \n",
    "    def parameters(self):\n",
    "      return self.w + [self.b]\n",
    "    \n",
    "\n",
    "class Layer:\n",
    "    def __init__(self, nin, nout):\n",
    "        self.neurons = [Neuron(nin) for _ in range(nout)]\n",
    "\n",
    "    def __call__(self, x):\n",
    "        outs = [n(x) for n in self.neurons]\n",
    "        return outs[0] if len(outs) == 1 else outs  \n",
    "    \n",
    "    def parameters(self):\n",
    "      return [p for neuron in self.neurons for p in neuron.parameters()]\n",
    "    \n",
    "class MLP:\n",
    "  def __init__(self, nin, nouts):\n",
    "    sz = [nin] + nouts\n",
    "    self.layers = [Layer(sz[i], sz[i+1]) for i in range(len(nouts))]\n",
    "  \n",
    "  def __call__(self, x):\n",
    "    for layer in self.layers:\n",
    "      x = layer(x)\n",
    "    return x\n",
    "  \n",
    "  def parameters(self):\n",
    "    return [p for layer in self.layers for p in layer.parameters()]\n",
    "  \n"
   ]
  },
  {
   "cell_type": "code",
   "execution_count": 142,
   "metadata": {},
   "outputs": [
    {
     "data": {
      "text/plain": [
       "Value(data=-0.7116463116464528)"
      ]
     },
     "execution_count": 142,
     "metadata": {},
     "output_type": "execute_result"
    }
   ],
   "source": [
    "x = [2.0, 3.0, -1.0]\n",
    "n = MLP(3, [4, 4, 1])\n",
    "n(x)"
   ]
  },
  {
   "cell_type": "code",
   "execution_count": 143,
   "metadata": {},
   "outputs": [],
   "source": [
    "xs = [\n",
    "  [2.0, 3.0, -1.0],\n",
    "  [3.0, -1.0, 0.5],\n",
    "  [0.5, 1.0, 1.0],\n",
    "  [1.0, 1.0, -1.0],\n",
    "]\n",
    "ys = [1.0, -1.0, -1.0, 1.0] # desired targets"
   ]
  },
  {
   "cell_type": "code",
   "execution_count": 131,
   "metadata": {},
   "outputs": [
    {
     "data": {
      "text/plain": [
       "[Value(data=0.8691788571591196),\n",
       " Value(data=0.9354116084931954),\n",
       " Value(data=0.8284914601943806),\n",
       " Value(data=0.7962368528012541)]"
      ]
     },
     "execution_count": 131,
     "metadata": {},
     "output_type": "execute_result"
    }
   ],
   "source": []
  },
  {
   "cell_type": "code",
   "execution_count": 144,
   "metadata": {},
   "outputs": [
    {
     "name": "stdout",
     "output_type": "stream",
     "text": [
      "Value(data=6.949778847934173)\n",
      "Value(data=6.508053447004944)\n",
      "Value(data=5.6004311925242245)\n",
      "Value(data=4.018344827815315)\n",
      "Value(data=2.704311087542171)\n",
      "Value(data=2.6463330116022585)\n",
      "Value(data=2.6355847410892888)\n",
      "Value(data=2.082723186389277)\n",
      "Value(data=1.0240031585570186)\n",
      "Value(data=0.4813024728537718)\n"
     ]
    }
   ],
   "source": [
    "for i in range(10):\n",
    "    ypred = [n(x) for x in xs]\n",
    "\n",
    "    loss = sum([(yout - ygt) ** 2 for ygt, yout in zip(ys, ypred)])\n",
    "\n",
    "    loss.backward()\n",
    "\n",
    "    for p in n.parameters():\n",
    "        p.data += -0.01 * p.grad\n",
    "    \n",
    "    print(loss)"
   ]
  },
  {
   "cell_type": "code",
   "execution_count": 146,
   "metadata": {},
   "outputs": [
    {
     "data": {
      "text/plain": [
       "Value(data=0.7737648226688685)"
      ]
     },
     "execution_count": 146,
     "metadata": {},
     "output_type": "execute_result"
    }
   ],
   "source": [
    "n([1, 4.5, -3])"
   ]
  },
  {
   "cell_type": "code",
   "execution_count": null,
   "metadata": {},
   "outputs": [],
   "source": []
  }
 ],
 "metadata": {
  "kernelspec": {
   "display_name": "Python 3",
   "language": "python",
   "name": "python3"
  },
  "language_info": {
   "codemirror_mode": {
    "name": "ipython",
    "version": 3
   },
   "file_extension": ".py",
   "mimetype": "text/x-python",
   "name": "python",
   "nbconvert_exporter": "python",
   "pygments_lexer": "ipython3",
   "version": "3.12.1"
  },
  "orig_nbformat": 4
 },
 "nbformat": 4,
 "nbformat_minor": 2
}
